{
  "nbformat": 4,
  "nbformat_minor": 0,
  "metadata": {
    "colab": {
      "provenance": [],
      "authorship_tag": "ABX9TyPW/O9MYospEPP54u4fuDNl",
      "include_colab_link": true
    },
    "kernelspec": {
      "name": "python3",
      "display_name": "Python 3"
    },
    "language_info": {
      "name": "python"
    }
  },
  "cells": [
    {
      "cell_type": "markdown",
      "metadata": {
        "id": "view-in-github",
        "colab_type": "text"
      },
      "source": [
        "<a href=\"https://colab.research.google.com/github/LinuKKx/Kika-Kalolo.github.io/blob/main/UserInput.ipynb\" target=\"_parent\"><img src=\"https://colab.research.google.com/assets/colab-badge.svg\" alt=\"Open In Colab\"/></a>"
      ]
    },
    {
      "cell_type": "code",
      "source": [],
      "metadata": {
        "id": "UGyAA1HXdJH2"
      },
      "execution_count": null,
      "outputs": []
    },
    {
      "cell_type": "code",
      "execution_count": 5,
      "metadata": {
        "colab": {
          "base_uri": "https://localhost:8080/"
        },
        "id": "laNZrf-nY2Py",
        "outputId": "7c1e380e-6b79-4b03-dc96-5eb6dd56b0c8"
      },
      "outputs": [
        {
          "output_type": "stream",
          "name": "stdout",
          "text": [
            "\n",
            "Welcome to Kika's short but simple interactive code.\n",
            "\n",
            "What is your name? Kika\n",
            "\n",
            "Hello Kika\n",
            "\n",
            "How many languages can you speak? 2\n",
            "\n",
            "Very impressive Kika\n",
            "\n",
            "If you had 1 language you wanted to speak, what would it be? Mandarin\n",
            "\n",
            "Wow! Mandarin is a great choice Kika\n"
          ]
        }
      ],
      "source": [
        "print()\n",
        "print(\"Welcome to Kika's short but simple interactive code.\")\n",
        "print()\n",
        "\n",
        "name = input('What is your name? ')\n",
        "print()\n",
        "print(\"Hello\", name)\n",
        "print()\n",
        "\n",
        "num1 = 1\n",
        "num2 = 2\n",
        "num3 = 3\n",
        "\n",
        "NumLingo = int(input(\"How many languages can you speak? \"))\n",
        "print()\n",
        "\n",
        "if NumLingo == num1:\n",
        "    print('1 is more than enough', name)\n",
        "    print()\n",
        "elif NumLingo == num2:\n",
        "    print('Very impressive', name)\n",
        "    print()\n",
        "else:\n",
        "    print('OMG! You are on fire', name)\n",
        "    print()\n",
        "\n",
        "language = input('If you had 1 language you wanted to speak, what would it be? ')\n",
        "print()\n",
        "print('Wow!', language, 'is a great choice', name)\n",
        "\n",
        "\n"
      ]
    }
  ]
}